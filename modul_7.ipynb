{
  "nbformat": 4,
  "nbformat_minor": 0,
  "metadata": {
    "colab": {
      "name": "modul_7.ipynb",
      "provenance": [],
      "authorship_tag": "ABX9TyMg5KuNMO1/RrwPuWS7xOue",
      "include_colab_link": true
    },
    "kernelspec": {
      "name": "python3",
      "display_name": "Python 3"
    },
    "language_info": {
      "name": "python"
    }
  },
  "cells": [
    {
      "cell_type": "markdown",
      "metadata": {
        "id": "view-in-github",
        "colab_type": "text"
      },
      "source": [
        "<a href=\"https://colab.research.google.com/github/Agustindwinurhamidah/PCVK/blob/main/modul_7.ipynb\" target=\"_parent\"><img src=\"https://colab.research.google.com/assets/colab-badge.svg\" alt=\"Open In Colab\"/></a>"
      ]
    },
    {
      "cell_type": "code",
      "execution_count": 2,
      "metadata": {
        "id": "LSq4naLPRl_0",
        "outputId": "1a064152-356c-4d71-bbf5-eb1901a46830",
        "colab": {
          "base_uri": "https://localhost:8080/"
        }
      },
      "outputs": [
        {
          "output_type": "stream",
          "name": "stdout",
          "text": [
            "Mounted at /content/drive\n"
          ]
        }
      ],
      "source": [
        "from google.colab import drive\n",
        "drive.mount('/content/drive')"
      ]
    },
    {
      "cell_type": "code",
      "source": [
        "import numpy as np\n",
        "import matplotlib.pyplot as plt\n",
        "import cv2 as cv\n",
        "import math\n",
        "from google.colab.patches import cv2_imshow\n",
        "from PIL import Image as im"
      ],
      "metadata": {
        "id": "CnLw7f6OSB3q"
      },
      "execution_count": 3,
      "outputs": []
    },
    {
      "cell_type": "code",
      "source": [
        "# 2C\n",
        "def convolution2d(image, kernel, stride, padding):\n",
        "  #add padding\n",
        "  image = np.pad(image,padding, mode='constant', constant_values=0)\n",
        "  #pick img input width and height values including insertion pad\n",
        "  kernel_height, kernel_width = kernel.shape\n",
        "  padded_height, padded_width = image.shape\n",
        "\n",
        "  output_height = (padded_height - kernel_height) // stride + 1\n",
        "  output_width = (padded_width - kernel_width) // stride + 1\n",
        "\n",
        "  new_image = np.zeros((output_height, output_width)).astype(np.float32)\n",
        "\n",
        "  for y in range (0, output_height):\n",
        "    for x in range (0, output_width):\n",
        "      new_image[y][x] = np.sum(image[y * stride:y *stride + kernel_height, x * stride:x * stride + kernel_width] * kernel).astype(np.float32)\n",
        "      return new_img\n"
      ],
      "metadata": {
        "id": "bCxePoJiS0VE"
      },
      "execution_count": 5,
      "outputs": []
    }
  ]
}