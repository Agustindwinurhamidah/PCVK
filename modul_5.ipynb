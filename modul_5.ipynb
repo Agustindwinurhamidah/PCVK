{
  "nbformat": 4,
  "nbformat_minor": 0,
  "metadata": {
    "colab": {
      "name": "modul 5.ipynb",
      "provenance": [],
      "authorship_tag": "ABX9TyNpFz7CRJ2HUP+mlrhNMnrM",
      "include_colab_link": true
    },
    "kernelspec": {
      "name": "python3",
      "display_name": "Python 3"
    },
    "language_info": {
      "name": "python"
    }
  },
  "cells": [
    {
      "cell_type": "markdown",
      "metadata": {
        "id": "view-in-github",
        "colab_type": "text"
      },
      "source": [
        "<a href=\"https://colab.research.google.com/github/Agustindwinurhamidah/PCVK/blob/main/modul_5.ipynb\" target=\"_parent\"><img src=\"https://colab.research.google.com/assets/colab-badge.svg\" alt=\"Open In Colab\"/></a>"
      ]
    },
    {
      "cell_type": "code",
      "execution_count": 1,
      "metadata": {
        "id": "sWvMOtW4YPkm",
        "colab": {
          "base_uri": "https://localhost:8080/"
        },
        "outputId": "ff95a20a-1c01-404e-c931-256f66c233bc"
      },
      "outputs": [
        {
          "output_type": "stream",
          "name": "stdout",
          "text": [
            "Mounted at /content/drive\n"
          ]
        }
      ],
      "source": [
        "from google.colab import drive\n",
        "drive.mount('/content/drive')"
      ]
    },
    {
      "cell_type": "code",
      "source": [
        "import cv2 as cv2\n",
        "from google.colab.patches import cv2_imshow\n",
        "from skimage import io\n",
        "import matplotlib.pyplot as plt\n",
        "import numpy as np"
      ],
      "metadata": {
        "id": "DNyiRdejY0-u"
      },
      "execution_count": 11,
      "outputs": []
    },
    {
      "cell_type": "code",
      "source": [
        "print(' Gamma Correction pada citra ')\n",
        "print('----------------------------------')\n",
        "try:\n",
        " gamma = int(input('Masukkan nilai Gamma: '))\n",
        "except ValueError:\n",
        " print('Error, not a number')\n",
        "\n",
        "original = cv.imread('/content/drive/MyDrive/Images/Images/female.tiff')\n",
        "\n",
        "invGamma = 1 / gamma\n",
        "table = np.array([((i / 255.0) ** invGamma) * 255\n",
        "    for i in np.arange(0, 256)]).astype(\"uint8\")\n",
        "adjusted = cv.LUT(original, table)\n",
        "final_frame = cv.hconcat((original, adjusted))\n",
        "cv2_imshow(final_frame)"
      ],
      "metadata": {
        "colab": {
          "base_uri": "https://localhost:8080/",
          "height": 287
        },
        "id": "R6FGRTA4Zm8x",
        "outputId": "4bdb38b7-3558-4cc5-b8b4-980f9751ab48"
      },
      "execution_count": 14,
      "outputs": [
        {
          "name": "stdout",
          "output_type": "stream",
          "text": [
            " Gamma Correction pada citra \n",
            "----------------------------------\n",
            "Masukkan nilai Gamma: 3\n"
          ]
        },
        {
          "output_type": "error",
          "ename": "NameError",
          "evalue": "ignored",
          "traceback": [
            "\u001b[0;31m---------------------------------------------------------------------------\u001b[0m",
            "\u001b[0;31mNameError\u001b[0m                                 Traceback (most recent call last)",
            "\u001b[0;32m<ipython-input-14-4eed0b84292c>\u001b[0m in \u001b[0;36m<module>\u001b[0;34m\u001b[0m\n\u001b[1;32m      6\u001b[0m  \u001b[0mprint\u001b[0m\u001b[0;34m(\u001b[0m\u001b[0;34m'Error, not a number'\u001b[0m\u001b[0;34m)\u001b[0m\u001b[0;34m\u001b[0m\u001b[0;34m\u001b[0m\u001b[0m\n\u001b[1;32m      7\u001b[0m \u001b[0;34m\u001b[0m\u001b[0m\n\u001b[0;32m----> 8\u001b[0;31m \u001b[0moriginal\u001b[0m \u001b[0;34m=\u001b[0m \u001b[0mcv\u001b[0m\u001b[0;34m.\u001b[0m\u001b[0mimread\u001b[0m\u001b[0;34m(\u001b[0m\u001b[0;34m'/content/drive/MyDrive/Images/Images/female.tiff'\u001b[0m\u001b[0;34m)\u001b[0m\u001b[0;34m\u001b[0m\u001b[0;34m\u001b[0m\u001b[0m\n\u001b[0m\u001b[1;32m      9\u001b[0m \u001b[0;34m\u001b[0m\u001b[0m\n\u001b[1;32m     10\u001b[0m \u001b[0minvGamma\u001b[0m \u001b[0;34m=\u001b[0m \u001b[0;36m1\u001b[0m \u001b[0;34m/\u001b[0m \u001b[0mgamma\u001b[0m\u001b[0;34m\u001b[0m\u001b[0;34m\u001b[0m\u001b[0m\n",
            "\u001b[0;31mNameError\u001b[0m: name 'cv' is not defined"
          ]
        }
      ]
    },
    {
      "cell_type": "code",
      "source": [
        "print('Simulasi Image depth ')\n",
        "print('-------------------------- ')\n",
        "try:\n",
        "  depth = int (input('Masukkan nilai bit depth [1-7]: '))\n",
        "  except ValueError:\n",
        "    print('error, not a number')\n",
        "  \n",
        "\n",
        "    original = cv.imread('/content/drive/MyDrive/Images/Images/female.tiff')\n",
        "    level = 255/(2** depth - 1)\n",
        "    \n",
        "    for i in range (depth)\n",
        "    hasil = np.array(np.round((original/level))*level, dtype='uint8')\n",
        "\n",
        "    final_depth = cv.hconcat((original, hasil))\n",
        "    cv2_imshow(final_depth)"
      ],
      "metadata": {
        "colab": {
          "base_uri": "https://localhost:8080/",
          "height": 130
        },
        "id": "JB_NN4m0b9ss",
        "outputId": "81984535-8322-4d20-e776-f8c8263eea84"
      },
      "execution_count": 7,
      "outputs": [
        {
          "output_type": "error",
          "ename": "SyntaxError",
          "evalue": "ignored",
          "traceback": [
            "\u001b[0;36m  File \u001b[0;32m\"<ipython-input-7-18af7cbaf9e0>\"\u001b[0;36m, line \u001b[0;32m5\u001b[0m\n\u001b[0;31m    except ValueError:\u001b[0m\n\u001b[0m         ^\u001b[0m\n\u001b[0;31mSyntaxError\u001b[0m\u001b[0;31m:\u001b[0m invalid syntax\n"
          ]
        }
      ]
    }
  ]
}